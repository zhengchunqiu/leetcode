{
 "cells": [
  {
   "cell_type": "markdown",
   "metadata": {},
   "source": [
    "## 001.Two Sum\n",
    "#### Given an array of integers, return indices of the two numbers such that they add up to a specific target.You may assume that each input would have exactly one solution, and you may not use the same element twice.\n",
    "#### Input: numbers={2, 7, 11, 15}, target=9 \n",
    "#### Output: index1=0, index2=1\n",
    "### 题目大意\n",
    "#### 给定一个整数数组，找出其中两个数满足相加等于你指定的目标数字。 要求：这个函数twoSum必须要返回能够相加等于目标数字的两个数的索引，"
   ]
  },
  {
   "cell_type": "code",
   "execution_count": 1,
   "metadata": {},
   "outputs": [],
   "source": [
    "a=[2,7,11,15]\n",
    "target=9"
   ]
  },
  {
   "cell_type": "code",
   "execution_count": 2,
   "metadata": {},
   "outputs": [
    {
     "data": {
      "text/plain": [
       "4"
      ]
     },
     "execution_count": 2,
     "metadata": {},
     "output_type": "execute_result"
    }
   ],
   "source": [
    "len(a)"
   ]
  },
  {
   "cell_type": "code",
   "execution_count": 3,
   "metadata": {},
   "outputs": [
    {
     "name": "stdout",
     "output_type": "stream",
     "text": [
      "0 1\n",
      "1 0\n"
     ]
    }
   ],
   "source": [
    "for key1,value1 in enumerate(a):\n",
    "    for key2,value2 in enumerate(a):\n",
    "        if (value1+value2)==target:\n",
    "            print(key1,key2)"
   ]
  },
  {
   "cell_type": "markdown",
   "metadata": {},
   "source": [
    "### 1.两层for循环"
   ]
  },
  {
   "cell_type": "code",
   "execution_count": 4,
   "metadata": {},
   "outputs": [],
   "source": [
    "#两层for循环\n",
    "def twoSum(nums,target):\n",
    "    for key1,value1 in enumerate(nums):\n",
    "        for key2,value2 in enumerate(nums):\n",
    "            if (value1+value2)==target:\n",
    "                return key1,key2"
   ]
  },
  {
   "cell_type": "code",
   "execution_count": 5,
   "metadata": {},
   "outputs": [
    {
     "data": {
      "text/plain": [
       "(0, 1)"
      ]
     },
     "execution_count": 5,
     "metadata": {},
     "output_type": "execute_result"
    }
   ],
   "source": [
    "nums=[2,7,11,15]\n",
    "target=9\n",
    "twoSum(nums,target)"
   ]
  },
  {
   "cell_type": "code",
   "execution_count": 6,
   "metadata": {},
   "outputs": [
    {
     "data": {
      "text/plain": [
       "(0, 0)"
      ]
     },
     "execution_count": 6,
     "metadata": {},
     "output_type": "execute_result"
    }
   ],
   "source": [
    "#错误情况\n",
    "nums=[3,2,4]\n",
    "target=6\n",
    "twoSum(nums,target)"
   ]
  },
  {
   "cell_type": "markdown",
   "metadata": {},
   "source": [
    "#### 修改后的两层for循环，运行正确\n",
    "#### Your runtime beats 16.16 % of python3 submissions."
   ]
  },
  {
   "cell_type": "code",
   "execution_count": 7,
   "metadata": {},
   "outputs": [],
   "source": [
    "#修改后的两层for循环\n",
    "def twoSum(nums,target):\n",
    "    for i in range(len(nums)):\n",
    "        for j in range(i+1,len(nums)):\n",
    "            if (nums[i]+nums[j])==target:\n",
    "                return i,j"
   ]
  },
  {
   "cell_type": "code",
   "execution_count": 8,
   "metadata": {},
   "outputs": [
    {
     "data": {
      "text/plain": [
       "(0, 1)"
      ]
     },
     "execution_count": 8,
     "metadata": {},
     "output_type": "execute_result"
    }
   ],
   "source": [
    "nums=[2,7,11,15]\n",
    "target=9\n",
    "twoSum(nums,target)"
   ]
  },
  {
   "cell_type": "code",
   "execution_count": 9,
   "metadata": {},
   "outputs": [
    {
     "data": {
      "text/plain": [
       "(1, 2)"
      ]
     },
     "execution_count": 9,
     "metadata": {},
     "output_type": "execute_result"
    }
   ],
   "source": [
    "nums=[3,2,4]\n",
    "target=6\n",
    "twoSum(nums,target)"
   ]
  },
  {
   "cell_type": "markdown",
   "metadata": {},
   "source": [
    "### 2.一层for循环实现，因为我们知道有且仅有一个解；我们可以通过判断target与某一个元素的差值是否也在列表之中\n",
    "#### Your runtime beats 41.12 % of python3 submissions."
   ]
  },
  {
   "cell_type": "code",
   "execution_count": 10,
   "metadata": {},
   "outputs": [],
   "source": [
    "def twoSum(nums,target):\n",
    "    for i in range(0,len(nums)):\n",
    "        oneNum=nums[i]\n",
    "        twoNum=target-oneNum\n",
    "        if twoNum in nums:\n",
    "            j=nums.index(twoNum)\n",
    "            if i!=j:\n",
    "                return i,j"
   ]
  },
  {
   "cell_type": "code",
   "execution_count": 11,
   "metadata": {},
   "outputs": [
    {
     "data": {
      "text/plain": [
       "(1, 2)"
      ]
     },
     "execution_count": 11,
     "metadata": {},
     "output_type": "execute_result"
    }
   ],
   "source": [
    "nums=[3,2,4,5,6]\n",
    "target=6\n",
    "twoSum(nums,target)"
   ]
  },
  {
   "cell_type": "markdown",
   "metadata": {},
   "source": [
    "### 3.dict字典（2个字典）\n",
    "#### 通过创建字典，将nums的值和序号对应起来，并创建另一个字典存储目标值，通过判断该值是否在nums内进行判断并返回其对应索引值\n",
    "#### Your runtime beats 62.93 % of python3 submissions.(48ms)"
   ]
  },
  {
   "cell_type": "code",
   "execution_count": 12,
   "metadata": {},
   "outputs": [],
   "source": [
    "def twoSum(nums,target):\n",
    "    n=len(nums)\n",
    "    dict1={nums[i]: i for i in range(n)}\n",
    "    dict2={i:target-nums[i] for i in range(n)}\n",
    "    for i in range(n-1):\n",
    "        j=dict1.get(dict2.get(i))\n",
    "        if (j is not None) and j!=i:\n",
    "            return [i, j]\n",
    "            break"
   ]
  },
  {
   "cell_type": "markdown",
   "metadata": {},
   "source": [
    "### 4.dict字典（一个字典）\n",
    "#### You are here! Your runtime beats 97.41 % of python3 submissions.Runtime (40ms)"
   ]
  },
  {
   "cell_type": "code",
   "execution_count": 13,
   "metadata": {},
   "outputs": [
    {
     "data": {
      "text/plain": [
       "{3: 0, 2: 1, 4: 2, 5: 3, 6: 4}"
      ]
     },
     "execution_count": 13,
     "metadata": {},
     "output_type": "execute_result"
    }
   ],
   "source": [
    "dict = {nums[i]: i for i in range(len(nums))}\n",
    "dict"
   ]
  },
  {
   "cell_type": "code",
   "execution_count": 14,
   "metadata": {},
   "outputs": [],
   "source": [
    "def twoSum(nums,target):\n",
    "    n=len(nums)\n",
    "    dict={nums[i]: i for i in range(n)}\n",
    "    for i in range(n-1):\n",
    "        num=target-nums[i]\n",
    "        if num in dict and i!=dict[num]:\n",
    "            return [i, dict[num]]"
   ]
  }
 ],
 "metadata": {
  "kernelspec": {
   "display_name": "Python 3",
   "language": "python",
   "name": "python3"
  },
  "language_info": {
   "codemirror_mode": {
    "name": "ipython",
    "version": 3
   },
   "file_extension": ".py",
   "mimetype": "text/x-python",
   "name": "python",
   "nbconvert_exporter": "python",
   "pygments_lexer": "ipython3",
   "version": "3.6.5"
  }
 },
 "nbformat": 4,
 "nbformat_minor": 2
}
